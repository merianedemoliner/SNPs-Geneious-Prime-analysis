{
 "cells": [
  {
   "cell_type": "code",
   "execution_count": 1,
   "metadata": {},
   "outputs": [],
   "source": [
    "import glob\n",
    "import pandas as pd\n",
    "import numpy as np\n",
    "\n",
    "input_folder = \"input/\"\n",
    "output_folder = \"output/\"\n",
    "csv_separator = \",\"\n",
    "\n",
    "all_filenames = glob.glob(input_folder + \"*.csv\")\n"
   ]
  },
  {
   "cell_type": "code",
   "execution_count": null,
   "metadata": {},
   "outputs": [],
   "source": [
    "for filename in all_filenames:\n",
    "    print(\"nome do arquivo:\" + filename)\n",
    "\n",
    "    sample_csv = pd.read_csv(filename , sep = csv_separator)\n",
    "    \n",
    "    #create column Variant Frequency 1 with the value from first position of patter xyz% -> abc%  \n",
    "    sample_csv['Variant Frequency 1'] = sample_csv['Variant Frequency'].str.split(' -> ').str[0]\n",
    "    #removes the % and convert to numeric\n",
    "    sample_csv['Variant Frequency 1'] = pd.to_numeric(sample_csv['Variant Frequency 1'].str.split('%').str[0])\n",
    "\n",
    "    #to the same as above, but for the second column\n",
    "    sample_csv['Variant Frequency 2'] = sample_csv['Variant Frequency'].str.split(' -> ').str[1]\n",
    "    sample_csv['Variant Frequency 2'] = sample_csv['Variant Frequency 2'].fillna('0')\n",
    "    sample_csv['Variant Frequency 2'] = pd.to_numeric(sample_csv['Variant Frequency 2'].str.split('%').str[0])\n",
    "\n",
    "    # filter data\n",
    "    sample_csv = sample_csv[sample_csv['gene'].notna()]\n",
    "    sample_csv = sample_csv[sample_csv['Protein Effect'] == \"Substitution\"]\n",
    "    sample_csv = sample_csv[sample_csv['Variant Frequency 1'] < 80.0 ] \n",
    "    \n",
    "    # calculate aa position (CDS Position / 3, rounded up)\n",
    "    sample_csv['AA Position'] = sample_csv['CDS Position'] / 3\n",
    "    sample_csv['AA Position'] = sample_csv['AA Position'].apply(np.ceil).astype(int)\n",
    "    \n",
    "    sample_csv = sample_csv.drop(columns=['Name', 'CDS', 'Change','Codon Change', 'Coverage', 'Polymorphism Type'])\n",
    "\n",
    "    # create output file\n",
    "    output_filename = output_folder + filename.split(\"/\")[1].split(\".\")[0] + \"_processada.csv\"\n",
    "    sample_csv.to_csv(output_filename, sep=';', encoding='utf-8')\n",
    "    "
   ]
  },
  {
   "cell_type": "code",
   "execution_count": null,
   "metadata": {},
   "outputs": [],
   "source": [
    "sample_csv.tail(100)"
   ]
  }
 ],
 "metadata": {
  "kernelspec": {
   "display_name": "Python 3",
   "language": "python",
   "name": "python3"
  },
  "language_info": {
   "codemirror_mode": {
    "name": "ipython",
    "version": 3
   },
   "file_extension": ".py",
   "mimetype": "text/x-python",
   "name": "python",
   "nbconvert_exporter": "python",
   "pygments_lexer": "ipython3",
   "version": "3.7.7"
  }
 },
 "nbformat": 4,
 "nbformat_minor": 4
}
