{
 "cells": [
  {
   "cell_type": "code",
   "execution_count": 1,
   "metadata": {},
   "outputs": [],
   "source": [
    "import glob\n",
    "import pandas as pd\n",
    "import numpy as np\n",
    "\n",
    "input_folder = \"output_mutations/\"\n",
    "output_folder = \"output_final_table/\"\n",
    "csv_separator = \";\"\n",
    "\n",
    "all_filenames = glob.glob(input_folder + \"*.csv\")"
   ]
  },
  {
   "cell_type": "code",
   "execution_count": 3,
   "metadata": {},
   "outputs": [],
   "source": [
    "# Create a series that will hold all the gene_mutation to be used as index\n",
    "gm_series = pd.Series(dtype=str, name='gene_mutation')\n",
    "\n",
    "# Create a list to store one gene_mutation-like column for each of the samples\n",
    "list_of_columns = []\n",
    "\n",
    "# Loop all files from the folder\n",
    "for filename in all_filenames:\n",
    "#   read the csv using the defined separator\n",
    "    sample_csv = pd.read_csv(filename , sep = csv_separator)\n",
    "    \n",
    "#   create the column name, using the first value after the '/', then the first value before the '_'\n",
    "#   example: assume the file: output_mutaitions/66126_processada_mutacao.csv\n",
    "#   the column_name will be 66126\n",
    "    column_name = filename.split(\"/\")[1].split(\"_\")[0]\n",
    "    \n",
    "#   create a new column on the just read csv, called 'gene_mutation' placing gene:mutation into it\n",
    "    sample_csv['gene_mutation'] = sample_csv['gene'] + ':' + sample_csv['mutation']\n",
    "#   repeat but for a column with the name of the file for later use\n",
    "    sample_csv[column_name] = sample_csv['gene'] + ':' + sample_csv['mutation']\n",
    "    \n",
    "#   add the column and its content (so a Series) to the list_of_columns so after the for-loop\n",
    "#   we will build a dataframe with all of this columns\n",
    "    list_of_columns.append(sample_csv.iloc[:, -1])\n",
    "\n",
    "#   get the content of gene_mutation that was just built and put inside the gm_list as single series\n",
    "    gm_series = gm_series.append(sample_csv['gene_mutation'], ignore_index = True)\n",
    "\n"
   ]
  },
  {
   "cell_type": "code",
   "execution_count": null,
   "metadata": {},
   "outputs": [],
   "source": [
    "# create a dataframe with all gene_mutations as column and index\n",
    "final_df = pd.DataFrame(gm_series)\n",
    "final_df = pd.DataFrame(final_df['gene_mutation'].drop_duplicates())\n",
    "final_df = final_df.set_index('gene_mutation', drop=False)\n",
    "\n",
    "# loop all the columns copied from the samples that also hold the gene:mutation pair\n",
    "for sample_series in list_of_columns:\n",
    "#   remove the duplicates, as obvious as it is\n",
    "    sample_series = sample_series.drop_duplicates()\n",
    "#   define the axis for the series, it is like the index for the dataframe.\n",
    "#   so, as the content refer to an axis that is available in the dataframe we'll just need to map it\n",
    "    sample_series = sample_series.set_axis(sample_series.tolist())\n",
    "\n",
    "#  just map it using the gene_mutation as key to map the series. \n",
    "    final_df[sample_series.name] = final_df['gene_mutation'].map(sample_series)\n",
    "    \n",
    "# replace all NaN with an empty text\n",
    "final_df = final_df.fillna('')\n",
    "final_df.head(50)"
   ]
  },
  {
   "cell_type": "code",
   "execution_count": 5,
   "metadata": {},
   "outputs": [],
   "source": [
    "final_df.to_csv(output_folder + 'omicron_gene_mutation_pair_table.csv', sep=';', encoding='utf-8')"
   ]
  },
  {
   "cell_type": "code",
   "execution_count": null,
   "metadata": {},
   "outputs": [],
   "source": []
  }
 ],
 "metadata": {
  "kernelspec": {
   "display_name": "Python 3",
   "language": "python",
   "name": "python3"
  },
  "language_info": {
   "codemirror_mode": {
    "name": "ipython",
    "version": 3
   },
   "file_extension": ".py",
   "mimetype": "text/x-python",
   "name": "python",
   "nbconvert_exporter": "python",
   "pygments_lexer": "ipython3",
   "version": "3.7.7"
  }
 },
 "nbformat": 4,
 "nbformat_minor": 4
}
