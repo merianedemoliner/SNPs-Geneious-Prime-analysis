{
 "cells": [
  {
   "cell_type": "code",
   "execution_count": 1,
   "metadata": {},
   "outputs": [],
   "source": [
    "import glob\n",
    "import pandas as pd\n",
    "import numpy as np\n",
    "\n",
    "input_folder = \"output/\"\n",
    "output_folder = \"output_mutations/\"\n",
    "\n",
    "all_filenames = glob.glob(input_folder + \"*.csv\")\n"
   ]
  },
  {
   "cell_type": "code",
   "execution_count": 2,
   "metadata": {},
   "outputs": [],
   "source": [
    "for filename in all_filenames:\n",
    "    sample_csv = pd.read_csv(filename , sep = ';')\n",
    "    \n",
    "    \n",
    "    #create column aa_ref with the value from first position of Amino Acid Change  \n",
    "    sample_csv['aa_ref'] = sample_csv['Amino Acid Change'].str.split(' -> ').str[0]\n",
    "    \n",
    "    #to the same as above, but for the aa_sample column\n",
    "    sample_csv['aa_sample'] = sample_csv['Amino Acid Change'].str.split(' -> ').str[1]\n",
    "    \n",
    "    #create column of mutation\n",
    "    sample_csv['mutation'] = sample_csv['aa_ref'] + sample_csv['AA Position'].astype(str) + sample_csv['aa_sample']\n",
    "    \n",
    "    # create output file\n",
    "    output_filename = output_folder + filename.split(\"/\")[1].split(\".\")[0] + \"_mutacao.csv\"\n",
    "    sample_csv.to_csv(output_filename, sep=';', encoding='utf-8')\n",
    "    \n",
    "   \n"
   ]
  },
  {
   "cell_type": "code",
   "execution_count": null,
   "metadata": {},
   "outputs": [],
   "source": [
    "sample_csv.tail(5)"
   ]
  }
 ],
 "metadata": {
  "kernelspec": {
   "display_name": "Python 3",
   "language": "python",
   "name": "python3"
  },
  "language_info": {
   "codemirror_mode": {
    "name": "ipython",
    "version": 3
   },
   "file_extension": ".py",
   "mimetype": "text/x-python",
   "name": "python",
   "nbconvert_exporter": "python",
   "pygments_lexer": "ipython3",
   "version": "3.7.7"
  }
 },
 "nbformat": 4,
 "nbformat_minor": 4
}
